{
 "cells": [
  {
   "cell_type": "markdown",
   "metadata": {},
   "source": [
    "# Exercise 3: Using kNN for classification of Wheat Seeds"
   ]
  },
  {
   "cell_type": "markdown",
   "metadata": {},
   "source": [
    "# Task 1: Get the data and load it to an appropriate data structure\n",
    "\n",
    "The dataset can be downloaded from: https://archive.ics.uci.edu/dataset/236/seedsimport\n",
    "\n",
    "This can be done by, e.g. using curl: curl -o seeds.zip https://archive.ics.uci.edu/static/public/236/seeds.zip\n",
    "\n",
    "In a next step, load the data to a pandas Dataframe. If you encounter any issues think about how you could solve them.\n",
    "You can load the data using pandas directly using `pd.read_csv(..., sep='\\t')` as the file is tab separted. \n",
    "Or you can loop over an open file handle and append the data to a list which you can then convert to a pandas DataFrame.\n",
    "```python\n",
    "data = []\n",
    "with open('seeds_dataset.txt') as f:\n",
    "pass\n",
    "```"
   ]
  },
  {
   "cell_type": "code",
   "execution_count": 13,
   "metadata": {},
   "outputs": [],
   "source": [
    "import pandas as pd\n",
    "import numpy as np\n",
    "import matplotlib.pyplot as plt"
   ]
  },
  {
   "cell_type": "code",
   "execution_count": 22,
   "metadata": {},
   "outputs": [],
   "source": []
  },
  {
   "cell_type": "markdown",
   "metadata": {},
   "source": [
    "## Task 1.1: Rename the columns to something more descriptive (see the dataset description for that)"
   ]
  },
  {
   "cell_type": "code",
   "execution_count": null,
   "metadata": {},
   "outputs": [],
   "source": []
  },
  {
   "cell_type": "markdown",
   "metadata": {},
   "source": [
    "# Task 1.2: Look at the data and get a feeling for it\n",
    "Use\n",
    "```python\n",
    "df.head()\n",
    "df.describe()\n",
    "```\n",
    "or plot some histograms of the dataset to get a feeling for the data."
   ]
  },
  {
   "cell_type": "markdown",
   "metadata": {},
   "source": [
    "# Task 2: Implement the kNN algorithm using sklearn\n",
    "Split the data into a training and a test set. Use the kNN algorithm from sklearn to classify the data.\n",
    "Use accuracy (the fraction of correctly classified instances) as a metric to evaluate the performance of the algorithm.\n",
    "Use 20% of the data as test set and the rest as training set.\n",
    "Example of how to split the data:\n",
    "```python\n",
    "import numpy as np\n",
    "from sklearn.model_selection import train_test_split\n",
    "X, y = np.arange(10).reshape((5, 2)), range(5)\n",
    "X_train, X_test, y_train, y_test = train_test_split(\n",
    "    X, y, test_size=0.33, random_state=42)\n",
    "```\n",
    "More details can be found here: https://scikit-learn.org/stable/modules/generated/sklearn.model_selection.train_test_split.html\n"
   ]
  },
  {
   "cell_type": "markdown",
   "metadata": {},
   "source": [
    "# Task 2.1 Split the data\n",
    "Use 20\\% of the data as test set and the rest as training set.\n",
    "Question to ask yourself: \n",
    "- Why do we need to split the data?\n",
    "- What is the randdom state?"
   ]
  },
  {
   "cell_type": "code",
   "execution_count": 30,
   "metadata": {},
   "outputs": [],
   "source": [
    "from sklearn.model_selection import train_test_split"
   ]
  },
  {
   "cell_type": "code",
   "execution_count": 33,
   "metadata": {},
   "outputs": [],
   "source": [
    "from sklearn.neighbors import KNeighborsClassifier"
   ]
  },
  {
   "cell_type": "markdown",
   "metadata": {},
   "source": [
    "# Task 2.3 Check the accuracy of the model using your own implementation of the accuracy function (fraction of correctly classified examples). \n",
    "Now compare the accuracy of the model with different values of k.  (e.g. 1, 3, 5, 7, 9, 11, 13, 15, 17, 19, 21). You can use a loop for that."
   ]
  },
  {
   "cell_type": "markdown",
   "metadata": {},
   "source": [
    "# Task 2.2. Implement the kNN algorithm and predict the test set samples with the trained model. \n",
    "```python\n",
    "from sklearn.neighbors import KNeighborsClassifier\n",
    "neigh = KNeighborsClassifier(n_neighbors=3)\n",
    "```\n",
    "Use the fit and predict functions of the model to train and predict the data."
   ]
  },
  {
   "cell_type": "code",
   "execution_count": 46,
   "metadata": {},
   "outputs": [],
   "source": [
    "def accuracy(y_true, y_pred):\n",
    "    pass"
   ]
  },
  {
   "cell_type": "code",
   "execution_count": null,
   "metadata": {},
   "outputs": [],
   "source": []
  }
 ],
 "metadata": {
  "kernelspec": {
   "display_name": "studies",
   "language": "python",
   "name": "python3"
  },
  "language_info": {
   "codemirror_mode": {
    "name": "ipython",
    "version": 3
   },
   "file_extension": ".py",
   "mimetype": "text/x-python",
   "name": "python",
   "nbconvert_exporter": "python",
   "pygments_lexer": "ipython3",
   "version": "3.11.0"
  }
 },
 "nbformat": 4,
 "nbformat_minor": 2
}
