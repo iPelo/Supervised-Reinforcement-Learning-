{
 "cells": [
  {
   "cell_type": "markdown",
   "metadata": {},
   "source": [
    "# kNN from scratch!\n",
    "This will test your understanding of the kNN algorithm. You will implement the kNN algorithm from scratch and use it to classify an artificial dataset.\n",
    "It will also test your understanding of python programming. \n",
    "Use the class skeleton to implement the kNN algorithm and the test function to test your implementation.\n",
    "## 1.1. Implement two distance metrics\n",
    "## 1.1.1 Implement the manhattan distance as a function of two numpy arrays\n",
    "## 1.1.2 Implement the euclidean distance as a function of two numpy arrays\n",
    "## 1.2. Implement the kNN algorithm using the euclidean distance\n",
    "## Bonus: Implement the class in a way, so you can choose which of the two metrics to use\n",
    "\n"
   ]
  },
  {
   "cell_type": "code",
   "execution_count": 56,
   "metadata": {},
   "outputs": [],
   "source": [
    "import numpy as np\n",
    "\n",
    "# use numpy, make your life easier\n",
    "def manhattan_distance(x1:np.ndarray, x2:np.ndarray):\n",
    "    return np.abs(x1 - x2).sum()\n",
    "\n",
    "def euclidean_distance(x1:np.ndarray, x2:np.ndarray):\n",
    "    return np.sqrt(np.sum((x1 - x2)**2))\n",
    "\n",
    "class KNN:\n",
    "    def __init__(self, k=3):\n",
    "        self.k = k\n",
    "\n",
    "    def fit(self, X, y):\n",
    "        self.X_train = X\n",
    "        self.y_train = y\n",
    "\n",
    "    def predict(self, X_test):\n",
    "        # run over all test samples and predict each one\n",
    "        # store predictions\n",
    "        # return predictions \n",
    "        pass\n",
    "\n",
    "    def _predict_single(self, x):\n",
    "        # predict a single sample\n",
    "        # np.argsort() gives the indices of the sorted array, could come in handy here\n",
    "        pass"
   ]
  },
  {
   "cell_type": "code",
   "execution_count": 2,
   "metadata": {},
   "outputs": [],
   "source": [
    "from sklearn.datasets import make_blobs\n",
    "from sklearn.model_selection import train_test_split\n",
    "from sklearn.metrics import accuracy_score"
   ]
  },
  {
   "cell_type": "code",
   "execution_count": 31,
   "metadata": {},
   "outputs": [],
   "source": [
    "# This creates training and testing data. make_blobs is a function that generates random data\n",
    "# X is the data, y is the labels\n",
    "# We split the data into training and testing data (checking generalizing)\n",
    "X, y = make_blobs(n_samples=100, centers=2, n_features=2, cluster_std=1.60, random_state=0,)\n",
    "X_train, X_test, y_train, y_test = train_test_split(X, y, test_size=0.3)"
   ]
  },
  {
   "cell_type": "code",
   "execution_count": 32,
   "metadata": {},
   "outputs": [
    {
     "name": "stdout",
     "output_type": "stream",
     "text": [
      "[1 1 0 1 0 0 0 0 0 0 1 1 0 1 0 1 0 1 0 0 0 0 1 0 0 1 1 1 0 1]\n",
      "[[ 0.45492297 -1.57397009]\n",
      " [ 3.4261965  -0.14397729]\n",
      " [ 1.54645631  5.4343044 ]\n",
      " [ 3.81472287  1.94608563]\n",
      " [-0.88796967  5.74510971]\n",
      " [ 2.79931117  2.32806601]\n",
      " [ 3.96436286  2.74014272]\n",
      " [ 0.93117851  4.98911832]\n",
      " [ 3.35747359  7.33721001]\n",
      " [ 2.19393044  4.49846735]\n",
      " [-0.05018434  0.15912829]\n",
      " [ 5.51644504  3.03610838]\n",
      " [ 1.20673979  6.63062494]\n",
      " [ 0.40047897  1.98821489]\n",
      " [ 3.42871682  6.65476136]\n",
      " [ 0.17827007  4.00745756]\n",
      " [ 0.41961064  4.55394568]\n",
      " [ 2.65754837 -0.8613776 ]\n",
      " [ 1.17932943  4.94697031]\n",
      " [ 0.47778603  4.39365188]\n",
      " [ 0.33118696  6.25969944]\n",
      " [-0.4754073   4.38689996]\n",
      " [ 5.04336186  2.34733511]\n",
      " [ 1.68645125  4.83766625]\n",
      " [ 0.16082659  3.60286844]\n",
      " [ 1.89774348 -0.1639016 ]\n",
      " [ 3.05563784 -1.66562859]\n",
      " [ 1.02547808 -2.65978138]\n",
      " [ 3.98931119  2.14737283]\n",
      " [-0.01330353  1.32494505]]\n"
     ]
    }
   ],
   "source": [
    "print(y_test)\n",
    "print(X_test)"
   ]
  },
  {
   "cell_type": "code",
   "execution_count": 33,
   "metadata": {},
   "outputs": [
    {
     "data": {
      "text/plain": [
       "<matplotlib.collections.PathCollection at 0x134a972d0>"
      ]
     },
     "execution_count": 33,
     "metadata": {},
     "output_type": "execute_result"
    },
    {
     "data": {
      "image/png": "[encoded data removed]",
      "text/plain": [
       "<Figure size 640x480 with 1 Axes>"
      ]
     },
     "metadata": {},
     "output_type": "display_data"
    }
   ],
   "source": [
    "# see how the training data looks like, if this looks weird, try different parameters for make_blobs (e.g. cluster_std, or random_state)\n",
    "import matplotlib.pyplot as plt\n",
    "plt.scatter(X_train[:,0], X_train[:,1], c=y_train)"
   ]
  },
  {
   "cell_type": "code",
   "execution_count": 59,
   "metadata": {},
   "outputs": [],
   "source": [
    "knn = KNN(k=3)\n",
    "knn.fit(X_train, y_train)\n",
    "predictions = knn.predict(X_test)\n",
    "accuracy_score(y_test, predictions)"
   ]
  },
  {
   "cell_type": "code",
   "execution_count": 26,
   "metadata": {},
   "outputs": [],
   "source": [
    "distances = np.array([1.1, 0.1, 3.1, 2.1, 1.0])\n",
    "labels = np.array([0, 1, 1, 0, 1])\n"
   ]
  },
  {
   "cell_type": "code",
   "execution_count": 29,
   "metadata": {},
   "outputs": [
    {
     "name": "stdout",
     "output_type": "stream",
     "text": [
      "[0.1 1.  1.1 2.1 3.1]\n",
      "[1 1 0]\n"
     ]
    }
   ],
   "source": [
    "import numpy as np\n",
    "np.argsort(distances)\n",
    "print(distances[np.argsort(distances)])\n",
    "k = 3\n",
    "print(labels[np.argsort(distances)][:k])"
   ]
  },
  {
   "cell_type": "code",
   "execution_count": 16,
   "metadata": {},
   "outputs": [
    {
     "name": "stdout",
     "output_type": "stream",
     "text": [
      "[0.1, 1.1, 2.1, 3.1]\n"
     ]
    }
   ],
   "source": [
    "print(distances)"
   ]
  },
  {
   "cell_type": "code",
   "execution_count": null,
   "metadata": {},
   "outputs": [],
   "source": []
  }
 ],
 "metadata": {
  "kernelspec": {
   "display_name": "studies",
   "language": "python",
   "name": "python3"
  },
  "language_info": {
   "codemirror_mode": {
    "name": "ipython",
    "version": 3
   },
   "file_extension": ".py",
   "mimetype": "text/x-python",
   "name": "python",
   "nbconvert_exporter": "python",
   "pygments_lexer": "ipython3",
   "version": "3.11.0"
  }
 },
 "nbformat": 4,
 "nbformat_minor": 2
}
