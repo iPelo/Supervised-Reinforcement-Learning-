{
 "cells": [
  {
   "cell_type": "markdown",
   "metadata": {},
   "source": [
    "# kNN from scratch!\n",
    "This will test your understanding of the kNN algorithm. You will implement the kNN algorithm from scratch and use it to classify an artificial dataset.\n",
    "It will also test your understanding of python programming. \n",
    "Use the class skeleton to implement the kNN algorithm and the test function to test your implementation.\n"
   ]
  },
  {
   "cell_type": "code",
   "execution_count": 21,
   "metadata": {},
   "outputs": [],
   "source": [
    "import numpy as np\n",
    "def manhattan_distance(x1, x2):\n",
    "    return np.sum(np.abs(x1 - x2))\n",
    "\n",
    "def euclidean_distance(x1, x2):\n",
    "    return np.linalg.norm(x1 - x2, ord=2)\n",
    "\n",
    "class KNN:\n",
    "    def __init__(self, k=3, distance='euclidean'):\n",
    "        self.k = k\n",
    "        if distance not in ['euclidean', 'manhattan']:\n",
    "            raise ValueError('Distance must be either \"euclidean\" or \"manhattan\"')\n",
    "        self.distance = {\n",
    "            'euclidean': euclidean_distance,\n",
    "            'manhattan': manhattan_distance\n",
    "        }[distance]\n",
    "\n",
    "    def fit(self, X, y):\n",
    "        self.X = X\n",
    "        self.y = y\n",
    "\n",
    "    def predict(self, X):\n",
    "        predictions = [self._predict(x) for x in X]\n",
    "        return predictions\n",
    "\n",
    "    def _predict(self, x: np.ndarray):\n",
    "        distances = [self.distance(x, x_train) for x_train in self.X]\n",
    "        indices = np.argsort(distances)\n",
    "        k_nearest_labels = self.y[indices[:self.k]]\n",
    "\n",
    "        # counting with numpy:\n",
    "        most_common = np.bincount(k_nearest_labels).argmax()\n",
    "\n",
    "        # alternative:\n",
    "        # counter = {}\n",
    "        # for l in k_nearest_labels:\n",
    "        #     counter[l] = counter.get(l, 0) + 1\n",
    "        # most_common = max(counter, key=counter.get) \n",
    "\n",
    "        return most_common\n",
    "\n"
   ]
  },
  {
   "cell_type": "code",
   "execution_count": 22,
   "metadata": {},
   "outputs": [],
   "source": [
    "from sklearn.datasets import make_blobs\n",
    "from sklearn.model_selection import train_test_split\n",
    "from sklearn.metrics import accuracy_score"
   ]
  },
  {
   "cell_type": "code",
   "execution_count": 23,
   "metadata": {},
   "outputs": [],
   "source": [
    "# X is a list of training vectors, y is a list of corresponding labels\n",
    "X, y = make_blobs(n_samples=100, centers=2, n_features=2, cluster_std=1.60, random_state=0,)\n",
    "X_train, X_test, y_train, y_test = train_test_split(X, y, test_size=0.2, random_state=0)"
   ]
  },
  {
   "cell_type": "code",
   "execution_count": 24,
   "metadata": {},
   "outputs": [
    {
     "name": "stdout",
     "output_type": "stream",
     "text": [
      "k=1, accuracy=0.8\n",
      "k=3, accuracy=0.85\n",
      "k=5, accuracy=0.95\n",
      "k=7, accuracy=0.9\n",
      "k=9, accuracy=0.9\n",
      "k=11, accuracy=0.85\n",
      "k=13, accuracy=0.9\n",
      "k=15, accuracy=0.9\n",
      "k=17, accuracy=0.9\n",
      "k=19, accuracy=0.9\n",
      "k=21, accuracy=0.9\n"
     ]
    }
   ],
   "source": [
    "for k in range(1, 22, 2):\n",
    "    knn = KNN(k=k, distance='euclidean')\n",
    "    knn.fit(X_train, y_train)\n",
    "    predictions = knn.predict(X_test)\n",
    "    print(f'k={k}, accuracy={accuracy_score(y_test, predictions)}')\n",
    "# knn = KNN(k=8, distance='euclidean')\n",
    "# knn.fit(X_train, y_train)\n",
    "# predictions = knn.predict(X_test)"
   ]
  },
  {
   "cell_type": "code",
   "execution_count": 60,
   "metadata": {},
   "outputs": [
    {
     "data": {
      "text/plain": [
       "0.9"
      ]
     },
     "execution_count": 60,
     "metadata": {},
     "output_type": "execute_result"
    }
   ],
   "source": [
    "accuracy_score(y_test, predictions)"
   ]
  },
  {
   "cell_type": "code",
   "execution_count": null,
   "metadata": {},
   "outputs": [],
   "source": []
  },
  {
   "cell_type": "code",
   "execution_count": null,
   "metadata": {},
   "outputs": [],
   "source": []
  },
  {
   "cell_type": "code",
   "execution_count": null,
   "metadata": {},
   "outputs": [],
   "source": []
  }
 ],
 "metadata": {
  "kernelspec": {
   "display_name": "studies",
   "language": "python",
   "name": "python3"
  },
  "language_info": {
   "codemirror_mode": {
    "name": "ipython",
    "version": 3
   },
   "file_extension": ".py",
   "mimetype": "text/x-python",
   "name": "python",
   "nbconvert_exporter": "python",
   "pygments_lexer": "ipython3",
   "version": "3.11.0"
  }
 },
 "nbformat": 4,
 "nbformat_minor": 2
}
