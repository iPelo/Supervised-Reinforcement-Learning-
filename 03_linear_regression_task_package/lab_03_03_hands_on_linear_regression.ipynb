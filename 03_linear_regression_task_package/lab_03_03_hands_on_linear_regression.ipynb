{
 "cells": [
  {
   "cell_type": "markdown",
   "metadata": {},
   "source": [
    "# Getting Real Estate Prices"
   ]
  },
  {
   "cell_type": "markdown",
   "metadata": {},
   "source": [
    "# Introduction\n",
    "You are given a dataset that contains the prices of real estate properties. \n",
    "The dataset contains 8 columns that describe different aspects of the properties. Your task is to create a linar regression model that can predict the price of a property based on its characteristics."
   ]
  },
  {
   "cell_type": "markdown",
   "metadata": {},
   "source": [
    "## Task 1: Data Exploration\n",
    "Load the data and check out which columns exist in the dataset.\n",
    "- Which of them do you think are relevant for the prediction of the price?\n",
    "- What would be your dependent and independent variables?\n",
    "- Explore the summary statistics of the columns. \n",
    "- Follow the method described in the lecture for data exploration. (pairwise scatter plots, look for any kind of linear relationship.)\n"
   ]
  },
  {
   "cell_type": "code",
   "execution_count": 4,
   "metadata": {},
   "outputs": [],
   "source": [
    "import matplotlib.pyplot as plt\n",
    "import numpy as np\n",
    "import pandas as pd"
   ]
  },
  {
   "cell_type": "markdown",
   "metadata": {},
   "source": [
    "#### Hint: to make your life easier, you can use `seaborn' library for the scatter plots. there is a function called 'pairplot' that can help you with this task."
   ]
  },
  {
   "cell_type": "code",
   "execution_count": 1,
   "metadata": {},
   "outputs": [],
   "source": [
    "import pandas as pd\n",
    "df = pd.read_csv('./Real_estate.csv')"
   ]
  },
  {
   "cell_type": "code",
   "execution_count": 6,
   "metadata": {},
   "outputs": [],
   "source": [
    "# df.head(), df.describe() could come in handy"
   ]
  },
  {
   "cell_type": "markdown",
   "metadata": {},
   "source": [
    "## Task 2: Building a linear regression model\n",
    "- Split the data into training and testing sets. (we did so last time using the train_test_split function from `sklearn`)\n",
    "- Train a linear regression model using the training set. (Use `sklearn.linear_model.LinearRegression`)\n",
    "- make yourself familiar with the functions of the linear regression model. (`.fit()`, `.predict()`, `.score()`)\n",
    "## Task 2.1: Create a linear regression model with only one independent variable (try several ones)\n",
    "## Task 2.2: Create a linear regression model with multiple independent variables \n",
    "- compare the results in model evaluation"
   ]
  },
  {
   "cell_type": "markdown",
   "metadata": {},
   "source": [
    "## Task 3: Model Evaluation\n",
    "- Evaluate the model using the testing set.\n",
    "- Calculate the Mean Absolute Error, Mean Squared Error, and Root Mean Squared Error.\n",
    "- Calculate the R-squared value.\n",
    "The following links can help you: \n",
    "- https://scikit-learn.org/stable/modules/generated/sklearn.metrics.mean_squared_error.html\n",
    "- https://scikit-learn.org/stable/modules/generated/sklearn.metrics.mean_absolute_error.html\n",
    "- https://scikit-learn.org/stable/modules/generated/sklearn.metrics.r2_score.html\n",
    "- https://scikit-learn.org/stable/modules/generated/sklearn.metrics.mean_squared_error.html"
   ]
  },
  {
   "cell_type": "markdown",
   "metadata": {},
   "source": [
    "## Task 4: Plot the regression lines on the test data\n",
    "- Use the `matplotlib` library to plot the regression lines on the test data.\n",
    "- You can choose any two variables for the plot.\n",
    "- you can find out how to do this here: https://scikit-learn.org/1.5/auto_examples/linear_model/plot_ols.html"
   ]
  },
  {
   "cell_type": "code",
   "execution_count": null,
   "metadata": {},
   "outputs": [],
   "source": []
  }
 ],
 "metadata": {
  "kernelspec": {
   "display_name": "studies",
   "language": "python",
   "name": "python3"
  },
  "language_info": {
   "codemirror_mode": {
    "name": "ipython",
    "version": 3
   },
   "file_extension": ".py",
   "mimetype": "text/x-python",
   "name": "python",
   "nbconvert_exporter": "python",
   "pygments_lexer": "ipython3",
   "version": "3.11.0"
  }
 },
 "nbformat": 4,
 "nbformat_minor": 2
}
